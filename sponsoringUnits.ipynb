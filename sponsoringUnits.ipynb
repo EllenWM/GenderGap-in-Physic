{
 "cells": [
  {
   "cell_type": "markdown",
   "id": "b1f9d727",
   "metadata": {},
   "source": [
    "## Sponsoring units\n",
    "\n",
    "We check how many unique sponsoring units there are, and how many of them we can recognize from the list of known sponsoring units."
   ]
  },
  {
   "cell_type": "code",
   "execution_count": 136,
   "id": "08749c34",
   "metadata": {},
   "outputs": [],
   "source": [
    "import re\n",
    "import pandas as pd\n",
    "from collections import Counter\n",
    "pd.options.mode.chained_assignment = None  # default='warn'"
   ]
  },
  {
   "cell_type": "code",
   "execution_count": 2,
   "id": "e1d7591f",
   "metadata": {},
   "outputs": [],
   "source": [
    "#load \n",
    "authors_wGender = pd.read_pickle(\"Files/Dataframes/authors_wGender.pkl\")"
   ]
  },
  {
   "cell_type": "code",
   "execution_count": 3,
   "id": "b1311be8",
   "metadata": {},
   "outputs": [],
   "source": [
    "## opening the file in read mode \n",
    "sponsorFile = open(\"Files/sponsoringUnits.txt\", \"r\").read()\n",
    "sponsorList = sponsorFile.replace('\\n', ';').split(';')\n",
    "sponsor_abr = re.findall(r'\\((.*)\\)', sponsorFile) #abbreviations for the sponsoring units\n",
    "sponsorNames = re.findall(r'(.*) \\(', sponsorFile) #ful name of sponsoring unit"
   ]
  },
  {
   "cell_type": "code",
   "execution_count": 28,
   "id": "d528ec3f",
   "metadata": {},
   "outputs": [],
   "source": [
    "division = authors_wGender.Division.to_list()\n",
    "divisionList = [i for i in division if str(i) != 'nan'] #reove nan in lsit\n",
    "divisions = [w for d in divisionList for w in re.split(r' |/|\\+|,|-', d)]\n",
    "divisionCount = dict(Counter(divisions))\n",
    "uniqueDivisions = list(divisionCount.keys()) #unique sponsoring units"
   ]
  },
  {
   "cell_type": "code",
   "execution_count": 12,
   "id": "8285dabc",
   "metadata": {},
   "outputs": [
    {
     "name": "stdout",
     "output_type": "stream",
     "text": [
      "Number of known divisions/units: 49\n",
      "Number of divisions in data: 65\n"
     ]
    }
   ],
   "source": [
    "print(\"Number of known divisions/units:\", len(sponsorNames))\n",
    "print(\"Number of divisions in data:\", len(uniqueDivisions))"
   ]
  },
  {
   "cell_type": "code",
   "execution_count": 64,
   "id": "b3815e11",
   "metadata": {},
   "outputs": [],
   "source": [
    "#known divisions in data\n",
    "len(list(set(sponsor_abr).intersection(uniqueDivisions)))\n",
    "knownDivisions = list(set(sponsor_abr).intersection(uniqueDivisions))"
   ]
  },
  {
   "cell_type": "code",
   "execution_count": 14,
   "id": "9cb11413",
   "metadata": {},
   "outputs": [
    {
     "data": {
      "text/plain": [
       "36"
      ]
     },
     "execution_count": 14,
     "metadata": {},
     "output_type": "execute_result"
    }
   ],
   "source": [
    "#divisions that is not known, some due to error in data(not clean enough), some due to another reason\n",
    "len(list(set(uniqueDivisions).difference(sponsor_abr)))"
   ]
  },
  {
   "cell_type": "code",
   "execution_count": 82,
   "id": "640d4c3b",
   "metadata": {},
   "outputs": [],
   "source": [
    "divisionCount = {key: divisionCount[key] for key in knownDivisions}\n",
    "divisions_higestCount = sorted(divisionCount.items(), key=lambda x: x[1], reverse=True)[0:5]"
   ]
  },
  {
   "cell_type": "code",
   "execution_count": 92,
   "id": "cef4954d",
   "metadata": {},
   "outputs": [],
   "source": [
    "#get largest divisions\n",
    "largestDivisions = []\n",
    "for i in range(0,5):\n",
    "    largestDivisions.append(divisions_higestCount[i][0])"
   ]
  },
  {
   "cell_type": "code",
   "execution_count": 113,
   "id": "a6cfcde5",
   "metadata": {},
   "outputs": [
    {
     "data": {
      "text/plain": [
       "['DMP', 'DCMP', 'DPOLY', 'GMAG', 'FIAP']"
      ]
     },
     "execution_count": 113,
     "metadata": {},
     "output_type": "execute_result"
    }
   ],
   "source": [
    "largestDivisions"
   ]
  },
  {
   "cell_type": "code",
   "execution_count": 121,
   "id": "b43f4ad9",
   "metadata": {},
   "outputs": [],
   "source": [
    "DMP = authors_wGender[authors_wGender.Division.str.contains('DMP', na=False)]\n",
    "DCMP = authors_wGender[authors_wGender.Division.str.contains('DCMP', na=False)]\n",
    "DPOLY = authors_wGender[authors_wGender.Division.str.contains('DPOLY', na=False)]\n",
    "GMAG = authors_wGender[authors_wGender.Division.str.contains('GMAG', na=False)]\n",
    "FIAP = authors_wGender[authors_wGender.Division.str.contains('FIAP', na=False)]"
   ]
  },
  {
   "cell_type": "code",
   "execution_count": 132,
   "id": "d23122af",
   "metadata": {},
   "outputs": [],
   "source": [
    "#change division\n",
    "DMP['Division'] = 'DMP'\n",
    "DCMP['Division'] = 'DCMP'\n",
    "DPOLY['Division'] = 'DPOLY'\n",
    "GMAG['Division'] = 'GMAG'\n",
    "FIAP['Division'] = 'FIAP' "
   ]
  },
  {
   "cell_type": "code",
   "execution_count": 134,
   "id": "e3745ae5",
   "metadata": {},
   "outputs": [],
   "source": [
    "divisions_df = pd.concat([DMP, DCMP, DPOLY, GMAG, FIAP])"
   ]
  },
  {
   "cell_type": "code",
   "execution_count": 135,
   "id": "79cb7ca4",
   "metadata": {},
   "outputs": [],
   "source": [
    "#save dfs\n",
    "divisions_df.to_pickle(\"Files/DataFrames/Divisions.pkl\")"
   ]
  }
 ],
 "metadata": {
  "kernelspec": {
   "display_name": "Python 3 (ipykernel)",
   "language": "python",
   "name": "python3"
  },
  "language_info": {
   "codemirror_mode": {
    "name": "ipython",
    "version": 3
   },
   "file_extension": ".py",
   "mimetype": "text/x-python",
   "name": "python",
   "nbconvert_exporter": "python",
   "pygments_lexer": "ipython3",
   "version": "3.9.13"
  }
 },
 "nbformat": 4,
 "nbformat_minor": 5
}
