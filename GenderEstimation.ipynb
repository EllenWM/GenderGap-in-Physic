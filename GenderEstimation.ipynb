{
 "cells": [
  {
   "cell_type": "code",
   "execution_count": 33,
   "id": "72dd492c",
   "metadata": {},
   "outputs": [],
   "source": [
    "import pandas as pd \n",
    "import numpy as np #maybe delete\n",
    "import re\n",
    "from tqdm import tqdm\n",
    "import warnings\n",
    "warnings.simplefilter(action='ignore', category=FutureWarning)"
   ]
  },
  {
   "cell_type": "code",
   "execution_count": 34,
   "id": "6dbcfff0",
   "metadata": {},
   "outputs": [],
   "source": [
    "def getFirstName(df, nameColumn): #nameColumn as string\n",
    "    firstName = []\n",
    "    for n in df[nameColumn]:\n",
    "        nameSplit = re.split(' ', n)\n",
    "        firstName.append(nameSplit[0])\n",
    "    return firstName"
   ]
  },
  {
   "cell_type": "code",
   "execution_count": 4,
   "id": "eb545329",
   "metadata": {},
   "outputs": [],
   "source": [
    "def assignGender(df):\n",
    "    index = 0\n",
    "    nameDict = {}\n",
    "    genderEstimation = pd.read_csv(\"Files/wgnd_2_0_name-gender-code.csv\") #genderEstimation file\n",
    "    genderEstimation['Name'] = genderEstimation.name.str.replace(r'\"|\\'', '', regex=True).str.lower() #remove \" and ' and make to lower case\n",
    "    \n",
    "    firstName = getFirstName(df, 'Name') #find first names\n",
    "    df['FirstName'] = firstName #add first name to df\n",
    "    df['first_name'] = df.FirstName.str.lower() #first name, but lower case\n",
    "  \n",
    "    usNames = genderEstimation[genderEstimation.code == 'US'] #some names can't not be found, but can with another code\n",
    "    otherNames = genderEstimation[~genderEstimation.Name.isin(usNames.Name)] #names not in US\n",
    "\n",
    "    uniqueNamesUS = df[df.first_name.isin(usNames.Name)].first_name.unique() #df with names from presenters, that is also in genderEstimation\n",
    "    uniqueNamesOther = df[df.first_name.isin(otherNames.Name)].first_name.unique()\n",
    "    \n",
    "    #uniqueNamesUS = us_presenters[us_presenters.first_name.isin(usNames.Name)]['first_name'].unique()\n",
    "    #uniqueNamesOther = other_presenters[other_presenters.first_name.isin(otherNames.Name)]['first_name'].unique()\n",
    "    for n in tqdm(uniqueNamesUS): #loop through us names that is also in the presenter df\n",
    "        nameTable = usNames[usNames.Name == n] #table with the name \n",
    "        genderIndex = nameTable.wgt.argmax() #index of gender with highest score/probability\n",
    "        gender = nameTable.iloc[genderIndex].gender #gender that is most likely\n",
    "        nameDict[index] = {'first_name': n, 'Gender': gender} #assign gender to the name in a dict\n",
    "        index += 1\n",
    "    \n",
    "    for m in tqdm(uniqueNamesOther): #loop through other names that is also in the presenter df\n",
    "        nameTable = otherNames[otherNames.Name == m].groupby('gender').mean() #table with the name - mean of wgt\n",
    "        genderIndex = nameTable.wgt.argmax() #index of gender with higest average probability\n",
    "        gender = nameTable.iloc[genderIndex].name\n",
    "        nameDict[index] = {'first_name': m, 'Gender': gender} #assign gender to the name in a dict\n",
    "        index += 1\n",
    "    \n",
    "    return nameDict"
   ]
  },
  {
   "cell_type": "markdown",
   "id": "94d6ff67",
   "metadata": {},
   "source": [
    "#### Add gender"
   ]
  },
  {
   "cell_type": "code",
   "execution_count": 38,
   "id": "a5f0d795",
   "metadata": {},
   "outputs": [],
   "source": [
    "authors = pd.read_pickle(\"Files/Dataframes/apiAuthors_realNames.pkl\") "
   ]
  },
  {
   "cell_type": "code",
   "execution_count": 6,
   "id": "269f7fc0",
   "metadata": {},
   "outputs": [
    {
     "name": "stderr",
     "output_type": "stream",
     "text": [
      "100%|████████████████████████████████████| 11742/11742 [00:55<00:00, 210.99it/s]\n",
      "100%|█████████████████████████████████████| 10098/10098 [25:42<00:00,  6.55it/s]\n"
     ]
    }
   ],
   "source": [
    "genderDict = assignGender(authors)"
   ]
  },
  {
   "cell_type": "code",
   "execution_count": 9,
   "id": "5c096aff",
   "metadata": {},
   "outputs": [],
   "source": [
    "#dataframe witht the gender and name\n",
    "genderAssign = pd.DataFrame.from_dict(genderDict, orient = 'index')"
   ]
  },
  {
   "cell_type": "markdown",
   "id": "3b659d71",
   "metadata": {},
   "source": [
    "Now we are merging genderAssign and df_presenters. This will automatically add the gender to names in the presenters df."
   ]
  },
  {
   "cell_type": "code",
   "execution_count": 18,
   "id": "7451e8de",
   "metadata": {},
   "outputs": [],
   "source": [
    "authors['first_name'] = authors.FirstName.str.lower()"
   ]
  },
  {
   "cell_type": "code",
   "execution_count": 19,
   "id": "17a5e22c",
   "metadata": {},
   "outputs": [],
   "source": [
    "#merge authors df with gender df\n",
    "authors = authors.merge(genderAssign, how='left', on='first_name').drop(columns=['first_name'])"
   ]
  },
  {
   "cell_type": "code",
   "execution_count": 23,
   "id": "dc20118b",
   "metadata": {},
   "outputs": [],
   "source": [
    "#only keep authors assigned to either F or M (and not NaN or ?)\n",
    "authors_wGender = authors[(authors.Gender == 'F') | (authors.Gender == 'M')]"
   ]
  },
  {
   "cell_type": "code",
   "execution_count": 25,
   "id": "5ae64218",
   "metadata": {},
   "outputs": [],
   "source": [
    "#either F or M assigned\n",
    "#nAuthors_genderAssigned = len(allAuthors[(allAuthors.Gender == 'F') | (allAuthors.Gender == 'M')]) \n",
    "#nPublishedAuthors_gendderAssigned = len(publishedAuthors[(publishedAuthors.Gender == 'F') | (publishedAuthors.Gender == 'M')])"
   ]
  },
  {
   "cell_type": "code",
   "execution_count": 26,
   "id": "4ba3b7dc",
   "metadata": {},
   "outputs": [],
   "source": [
    "authors_wGender.to_pickle(\"Files/Dataframes/authors_wGender.pkl\") "
   ]
  },
  {
   "cell_type": "code",
   "execution_count": 28,
   "id": "120bd552",
   "metadata": {},
   "outputs": [
    {
     "name": "stdout",
     "output_type": "stream",
     "text": [
      "Number of authors with assigned gender: 1467456\n"
     ]
    }
   ],
   "source": [
    "print(\"Number of authors with assigned gender:\", len(authors_wGender))"
   ]
  },
  {
   "cell_type": "code",
   "execution_count": 32,
   "id": "33eb7845",
   "metadata": {},
   "outputs": [
    {
     "data": {
      "text/plain": [
       "157893"
      ]
     },
     "execution_count": 32,
     "metadata": {},
     "output_type": "execute_result"
    }
   ],
   "source": [
    "len(authors_wGender.Name.unique())"
   ]
  }
 ],
 "metadata": {
  "kernelspec": {
   "display_name": "Python 3 (ipykernel)",
   "language": "python",
   "name": "python3"
  },
  "language_info": {
   "codemirror_mode": {
    "name": "ipython",
    "version": 3
   },
   "file_extension": ".py",
   "mimetype": "text/x-python",
   "name": "python",
   "nbconvert_exporter": "python",
   "pygments_lexer": "ipython3",
   "version": "3.9.13"
  }
 },
 "nbformat": 4,
 "nbformat_minor": 5
}
