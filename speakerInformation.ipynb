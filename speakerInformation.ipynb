{
 "cells": [
  {
   "cell_type": "code",
   "execution_count": 1,
   "id": "aab479ad",
   "metadata": {},
   "outputs": [],
   "source": [
    "import os\n",
    "import datetime\n",
    "import json\n",
    "import pandas as pd\n",
    "import re\n",
    "from collections import Counter"
   ]
  },
  {
   "cell_type": "code",
   "execution_count": 2,
   "id": "1179ef24",
   "metadata": {},
   "outputs": [],
   "source": [
    "path = \"Files/Authors\"\n",
    "filePath = path + \"/\"\n",
    "authorFiles = os.listdir(path)\n",
    "\n",
    "df_presenters = pd.read_pickle(\"Files/Dataframes/Presenters.pkl\")  \n",
    "authorID = pd.read_pickle(\"Files/Dictionary/authorID.pkl\")  "
   ]
  },
  {
   "cell_type": "code",
   "execution_count": 3,
   "id": "d8403581",
   "metadata": {},
   "outputs": [],
   "source": [
    "def getName(data): #get namme from json\n",
    "    name = data['results'][0]['display_name'] #only save first name\n",
    "        \n",
    "    return name"
   ]
  },
  {
   "cell_type": "code",
   "execution_count": 4,
   "id": "3a535697",
   "metadata": {},
   "outputs": [],
   "source": [
    "def getMaxPaperCount(data): #get maximum number of published papers\n",
    "    dataCount = len(data['results']) #length of results(with authors)\n",
    "    paperCount = 0\n",
    "    for i in range(0, dataCount):\n",
    "        paperCount += data['results'][i]['works_count']\n",
    "\n",
    "    return paperCount"
   ]
  },
  {
   "cell_type": "code",
   "execution_count": 5,
   "id": "9deb65a8",
   "metadata": {},
   "outputs": [],
   "source": [
    "def getFields(data): #get field\n",
    "    dataCount = len(data['results']) #length of results(with authors)\n",
    "    all_fields = []\n",
    "    if data['results'][0]['x_concepts']: #if any fields\n",
    "        for i in range(0, dataCount):\n",
    "            fields = data['results'][i]['x_concepts']\n",
    "            for f in fields: #loop through fields for result i\n",
    "                all_fields.append(f['display_name'])\n",
    "        if 'Physics' in all_fields: #set field as Physics if that is one of the fields, otherwise set it to the first field in file\n",
    "            field = 'Physics'\n",
    "        else:\n",
    "            #field = fields[0]['display_name']\n",
    "            field = data['results'][0]['x_concepts'][0]['display_name']\n",
    "    else:\n",
    "        field = 'No fields'\n",
    "        \n",
    "    return field"
   ]
  },
  {
   "cell_type": "code",
   "execution_count": 6,
   "id": "c220b3b1",
   "metadata": {},
   "outputs": [],
   "source": [
    "def getFirstYear(data): #get first year a paper was published for the researcher\n",
    "    dataCount = len(data['results']) #length of results(with authors)\n",
    "    publishYears = []\n",
    "    for i in range(0, dataCount):\n",
    "        publishCount = data['results'][i]['counts_by_year'] #publishCount\n",
    "        if publishCount: #if any data in counts by year\n",
    "            for y in range(0, len(publishCount)):\n",
    "                if publishCount[y]['works_count'] > 0:\n",
    "                    publishYears.append(publishCount[y]['year']) #append year if anything was published\n",
    "    if publishYears: #if anything published\n",
    "        firstYear = int(min(publishYears))\n",
    "    else:\n",
    "        firstYear = 'No published papers'\n",
    "    \n",
    "    return firstYear"
   ]
  },
  {
   "cell_type": "code",
   "execution_count": 7,
   "id": "14fde6da",
   "metadata": {},
   "outputs": [],
   "source": [
    "def readFile(file, path): #function to read file\n",
    "    with open(path + file) as f:\n",
    "        data = json.load(f)\n",
    "    return data"
   ]
  },
  {
   "cell_type": "code",
   "execution_count": 8,
   "id": "d122e48f",
   "metadata": {},
   "outputs": [],
   "source": [
    "def getAuthorInfo(files, path, authorDict): #get info about authors\n",
    "    nameList = {}\n",
    "    index = 0\n",
    "    for file in files:\n",
    "        if file != '.DS_Store':\n",
    "            data = readFile(file, path)\n",
    "            if not 'error' in data.keys(): #if no error in the file\n",
    "                fileIndex = int(re.findall(r'\\d+', file)[0])\n",
    "                originalName = authorDict[fileIndex]\n",
    "                nAuthors = data['meta']['count']\n",
    "                if  nAuthors > 0: #if at least one researcher found\n",
    "                    name = getName(data) #get name\n",
    "                    maxPaperCount = getMaxPaperCount(data) #get max paper count\n",
    "                    field = getFields(data) #get field\n",
    "                    firstYear = getFirstYear(data) #get first year a paper was published\n",
    "                    nameList[index] = {'FileID': fileIndex, 'OriginalName': originalName, 'API_Name': name, 'MaxPaperCount': maxPaperCount, 'Field': field, 'FirstPaperYear': firstYear, 'AuthorCount': nAuthors}\n",
    "                    index += 1\n",
    "                        \n",
    "    return nameList"
   ]
  },
  {
   "cell_type": "code",
   "execution_count": 9,
   "id": "2685ae5e",
   "metadata": {},
   "outputs": [],
   "source": [
    "def getFirstName(df):\n",
    "    firstName_dict = {}\n",
    "    for i in df.index:\n",
    "        name1 = df.OriginalName.iloc[i].split()\n",
    "        name2 = df.API_Name.iloc[i].split()\n",
    "        if name1: #if there is any originalName\n",
    "            firstName = max(name1[0], name2[0])\n",
    "            firstName_dict[i] = firstName\n",
    "        \n",
    "    return firstName_dict"
   ]
  },
  {
   "cell_type": "code",
   "execution_count": 10,
   "id": "cbc77167",
   "metadata": {},
   "outputs": [],
   "source": [
    "def cumulativePaperCount(confYear, fileID, path):\n",
    "    conferenceYear = datetime.datetime.strptime(str(confYear), '%Y')\n",
    "    publishCount = 0\n",
    "    data = readFile(str(fileID) + '.txt', path)\n",
    "    dataCount = len(data['results']) #length of results(with authors)\n",
    "    for i in range(0, dataCount):\n",
    "        published = data['results'][i]['counts_by_year']\n",
    "        for j in published:\n",
    "            publishYear = datetime.datetime.strptime(str(j['year']), '%Y')\n",
    "            if publishYear < conferenceYear: \n",
    "                publishCount += j['works_count']\n",
    "                \n",
    "    return publishCount"
   ]
  },
  {
   "cell_type": "markdown",
   "id": "4cf6f8d3",
   "metadata": {},
   "source": [
    "#### Add additional information"
   ]
  },
  {
   "cell_type": "code",
   "execution_count": 11,
   "id": "bc769018",
   "metadata": {},
   "outputs": [],
   "source": [
    "authorInfo = getAuthorInfo(authorFiles, filePath, authorID) #dict with author Info"
   ]
  },
  {
   "cell_type": "code",
   "execution_count": 12,
   "id": "f6f62328",
   "metadata": {},
   "outputs": [],
   "source": [
    "#create df from authorInfo\n",
    "df_authors = pd.DataFrame.from_dict(authorInfo, orient = 'index')"
   ]
  },
  {
   "cell_type": "code",
   "execution_count": 13,
   "id": "c04a10df",
   "metadata": {},
   "outputs": [],
   "source": [
    "authors = pd.merge(df_authors, df_presenters,  left_on=['OriginalName'], right_on=['Name'])"
   ]
  },
  {
   "cell_type": "code",
   "execution_count": 14,
   "id": "c02522a9",
   "metadata": {},
   "outputs": [],
   "source": [
    "firstNameDict = getFirstName(authors)"
   ]
  },
  {
   "cell_type": "code",
   "execution_count": 15,
   "id": "c5f5b7c4",
   "metadata": {},
   "outputs": [],
   "source": [
    "#make firstNameDict to df\n",
    "firstName_df = pd.DataFrame.from_dict(firstNameDict, orient = 'index').rename(columns = {0: 'FirstName'})"
   ]
  },
  {
   "cell_type": "code",
   "execution_count": 16,
   "id": "ef1d3324",
   "metadata": {},
   "outputs": [],
   "source": [
    "#merge authors with firstName_df - authors after using API\n",
    "apiAuthors = pd.merge(authors, firstName_df, left_index = True, right_index = True)"
   ]
  },
  {
   "cell_type": "code",
   "execution_count": 22,
   "id": "ac48ab89",
   "metadata": {},
   "outputs": [],
   "source": [
    "#convert year and FirstPaperYear to datetime year instead of int\n",
    "apiAuthors['Year'] = pd.to_datetime(apiAuthors.Year, format = '%Y', errors='coerce').dt.year\n",
    "apiAuthors['FirstPaperYear'] = pd.to_datetime(apiAuthors.FirstPaperYear, format = '%Y', errors='coerce').dt.year"
   ]
  },
  {
   "cell_type": "code",
   "execution_count": 24,
   "id": "9195b361",
   "metadata": {},
   "outputs": [],
   "source": [
    "#publishedAuthors = apiAuthors[apiAuthors.FirstPaperYear != 'No published papers'] #authors published at some point"
   ]
  },
  {
   "cell_type": "code",
   "execution_count": 25,
   "id": "d9091980",
   "metadata": {},
   "outputs": [],
   "source": [
    "#publishedAuthors['Year'] = pd.to_datetime(publishedAuthors.Year, format = '%Y').dt.year\n",
    "#publishedAuthors['FirstPaperYear'] = pd.to_datetime(publishedAuthors.FirstPaperYear, format = '%Y').dt.year"
   ]
  },
  {
   "cell_type": "code",
   "execution_count": 26,
   "id": "639379eb",
   "metadata": {},
   "outputs": [],
   "source": [
    "#add seniority\n",
    "apiAuthors['Seniority'] = apiAuthors.Year - apiAuthors.FirstPaperYear "
   ]
  },
  {
   "cell_type": "code",
   "execution_count": 27,
   "id": "fcec90c8",
   "metadata": {},
   "outputs": [],
   "source": [
    "#apply function to calculate cumulative paper count for current conference year\n",
    "apiAuthors['CumulativePaperCount'] = apiAuthors.apply(lambda x: cumulativePaperCount(x.Year, x.FileID, filePath), axis = 1)"
   ]
  },
  {
   "cell_type": "code",
   "execution_count": 31,
   "id": "e417b224",
   "metadata": {},
   "outputs": [],
   "source": [
    "#add productivity (cumulative papercount / years in the field)\n",
    "apiAuthors['Productivity'] = apiAuthors.CumulativePaperCount/apiAuthors.Seniority"
   ]
  },
  {
   "cell_type": "code",
   "execution_count": 32,
   "id": "0b266107",
   "metadata": {},
   "outputs": [],
   "source": [
    "#select only authors where first name does not contain \".\"\n",
    "apiAuthors_realNames = apiAuthors[~apiAuthors.FirstName.str.contains('\\.')]"
   ]
  },
  {
   "cell_type": "code",
   "execution_count": 34,
   "id": "a6633af4",
   "metadata": {},
   "outputs": [],
   "source": [
    "#save authors\n",
    "apiAuthors.to_pickle(\"Files/DataFrames/Authors_afterAPI.pkl\")\n",
    "apiAuthors_realNames.to_pickle(\"Files/DataFrames/apiAuthors_realNames.pkl\")"
   ]
  },
  {
   "cell_type": "code",
   "execution_count": 38,
   "id": "1fe61146",
   "metadata": {},
   "outputs": [
    {
     "name": "stdout",
     "output_type": "stream",
     "text": [
      "After API, when using names without dot: 1695315 authors\n"
     ]
    }
   ],
   "source": [
    "print(\"After API, when using names without dot:\", len(apiAuthors_realNames), \"authors\")"
   ]
  },
  {
   "cell_type": "code",
   "execution_count": 41,
   "id": "ff9e9f2f",
   "metadata": {},
   "outputs": [
    {
     "data": {
      "text/plain": [
       "183272"
      ]
     },
     "execution_count": 41,
     "metadata": {},
     "output_type": "execute_result"
    }
   ],
   "source": [
    "len(apiAuthors_realNames.Name.unique())"
   ]
  }
 ],
 "metadata": {
  "kernelspec": {
   "display_name": "Python 3 (ipykernel)",
   "language": "python",
   "name": "python3"
  },
  "language_info": {
   "codemirror_mode": {
    "name": "ipython",
    "version": 3
   },
   "file_extension": ".py",
   "mimetype": "text/x-python",
   "name": "python",
   "nbconvert_exporter": "python",
   "pygments_lexer": "ipython3",
   "version": "3.9.13"
  }
 },
 "nbformat": 4,
 "nbformat_minor": 5
}
